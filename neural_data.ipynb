{
  "cells": [
    {
      "cell_type": "code",
      "source": [
        "import os\n",
        "import shutil\n",
        "\n",
        "folder_path = '/content/fast-ALO'  # Replace 'my_folder' with the path to your directory\n",
        "\n",
        "if os.path.exists(folder_path):\n",
        "    shutil.rmtree(folder_path)\n",
        "    print(\"Folder removed successfully\")\n",
        "else:\n",
        "    print(\"Folder does not exist\")\n"
      ],
      "metadata": {
        "colab": {
          "base_uri": "https://localhost:8080/"
        },
        "id": "_fdO20ri5ZWZ",
        "outputId": "b4f44d2c-0790-40db-db73-8a06edd8e1a9"
      },
      "execution_count": 6,
      "outputs": [
        {
          "output_type": "stream",
          "name": "stdout",
          "text": [
            "Folder removed successfully\n"
          ]
        }
      ]
    },
    {
      "cell_type": "code",
      "source": [
        "import os\n",
        "import shutil\n",
        "\n",
        "!git clone https://github.com/RahnamaRad/fast-ALO\n",
        "\n",
        "# Change the current directory to the cloned repository\n",
        "os.chdir('fast-ALO')"
      ],
      "metadata": {
        "colab": {
          "base_uri": "https://localhost:8080/"
        },
        "id": "68MHGPYc3uoG",
        "outputId": "775b28a8-4b98-4fb2-de64-64d98161e97a"
      },
      "execution_count": 1,
      "outputs": [
        {
          "output_type": "stream",
          "name": "stdout",
          "text": [
            "Cloning into 'fast-ALO'...\n",
            "remote: Enumerating objects: 8, done.\u001b[K\n",
            "remote: Counting objects: 100% (8/8), done.\u001b[K\n",
            "remote: Compressing objects: 100% (8/8), done.\u001b[K\n",
            "remote: Total 8 (delta 2), reused 0 (delta 0), pack-reused 0\u001b[K\n",
            "Receiving objects: 100% (8/8), 1.58 MiB | 10.06 MiB/s, done.\n",
            "Resolving deltas: 100% (2/2), done.\n"
          ]
        }
      ]
    },
    {
      "cell_type": "code",
      "execution_count": 5,
      "metadata": {
        "colab": {
          "base_uri": "https://localhost:8080/",
          "height": 251
        },
        "id": "Xi5oA6btdXQZ",
        "outputId": "d2af328e-c8fa-4665-e4e1-833b270cde5f"
      },
      "outputs": [
        {
          "output_type": "stream",
          "name": "stdout",
          "text": [
            "Files loaded successfully.\n",
            "Mean of log of factorial of r: 0.37222185037809974\n"
          ]
        },
        {
          "output_type": "error",
          "ename": "TypeError",
          "evalue": "'float' object cannot be interpreted as an integer",
          "traceback": [
            "\u001b[0;31m---------------------------------------------------------------------------\u001b[0m",
            "\u001b[0;31mTypeError\u001b[0m                                 Traceback (most recent call last)",
            "\u001b[0;32m<ipython-input-5-fb44fcb8d419>\u001b[0m in \u001b[0;36m<cell line: 63>\u001b[0;34m()\u001b[0m\n\u001b[1;32m     61\u001b[0m \u001b[0;31m# Assuming initialization of T, n, x, y, r\u001b[0m\u001b[0;34m\u001b[0m\u001b[0;34m\u001b[0m\u001b[0m\n\u001b[1;32m     62\u001b[0m \u001b[0mI\u001b[0m \u001b[0;34m=\u001b[0m \u001b[0mnp\u001b[0m\u001b[0;34m.\u001b[0m\u001b[0mzeros\u001b[0m\u001b[0;34m(\u001b[0m\u001b[0mT\u001b[0m\u001b[0;34m,\u001b[0m \u001b[0mdtype\u001b[0m\u001b[0;34m=\u001b[0m\u001b[0mint\u001b[0m\u001b[0;34m)\u001b[0m\u001b[0;34m\u001b[0m\u001b[0;34m\u001b[0m\u001b[0m\n\u001b[0;32m---> 63\u001b[0;31m \u001b[0mR\u001b[0m \u001b[0;34m=\u001b[0m \u001b[0mnp\u001b[0m\u001b[0;34m.\u001b[0m\u001b[0mzeros\u001b[0m\u001b[0;34m(\u001b[0m\u001b[0;34m(\u001b[0m\u001b[0mn\u001b[0m\u001b[0;34m,\u001b[0m \u001b[0mn\u001b[0m\u001b[0;34m)\u001b[0m\u001b[0;34m)\u001b[0m\u001b[0;34m\u001b[0m\u001b[0;34m\u001b[0m\u001b[0m\n\u001b[0m\u001b[1;32m     64\u001b[0m \u001b[0mrows\u001b[0m \u001b[0;34m=\u001b[0m \u001b[0;34m[\u001b[0m\u001b[0;34m]\u001b[0m\u001b[0;34m\u001b[0m\u001b[0;34m\u001b[0m\u001b[0m\n\u001b[1;32m     65\u001b[0m \u001b[0mcols\u001b[0m \u001b[0;34m=\u001b[0m \u001b[0;34m[\u001b[0m\u001b[0;34m]\u001b[0m\u001b[0;34m\u001b[0m\u001b[0;34m\u001b[0m\u001b[0m\n",
            "\u001b[0;31mTypeError\u001b[0m: 'float' object cannot be interpreted as an integer"
          ]
        }
      ],
      "source": [
        "import numpy as np\n",
        "import scipy.io\n",
        "from scipy.interpolate import interp1d\n",
        "from scipy.special import factorial\n",
        "import matplotlib.pyplot as plt\n",
        "from scipy.sparse import lil_matrix, csr_matrix\n",
        "\n",
        "# Load the MATLAB files\n",
        "cellName = 'T9C3'\n",
        "formatSpec = f'BEN_{cellName}.mat'\n",
        "pos_data_path = 'BEN_pos.mat'\n",
        "\n",
        "\n",
        "data = scipy.io.loadmat(formatSpec)\n",
        "pos_data = scipy.io.loadmat(pos_data_path)\n",
        "print(\"Files loaded successfully.\")\n",
        "\n",
        "# Extract data from structures as needed, e.g.,\n",
        "post = pos_data['post'].flatten()\n",
        "posx = pos_data['posx'].flatten()\n",
        "posy = pos_data['posy'].flatten()\n",
        "cellTS = data['cellTS'].flatten()\n",
        "\n",
        "# Filter spikes beyond the last recorded location time\n",
        "cellTS = cellTS[cellTS < np.max(post)]\n",
        "\n",
        "# Interpolation setup\n",
        "dt = 0.2\n",
        "time = np.arange(np.min(post), np.max(post), dt)\n",
        "interp_x = interp1d(post, posx, kind='linear', fill_value='extrapolate')\n",
        "interp_y = interp1d(post, posy, kind='linear', fill_value='extrapolate')\n",
        "\n",
        "x_ = interp_x(time)\n",
        "y_ = interp_y(time)\n",
        "\n",
        "# Normalization\n",
        "x_ = (x_ - np.min(x_)) / (np.max(x_) - np.min(x_))\n",
        "y_ = (y_ - np.min(y_)) / (np.max(y_) - np.min(y_))\n",
        "\n",
        "# Discretize\n",
        "n = 500 * dt\n",
        "x = np.ceil(x_ * n).astype(int)\n",
        "y = np.ceil(y_ * n).astype(int)\n",
        "x = np.clip(x, 1, n) - 1\n",
        "y = np.clip(y, 1, n) - 1\n",
        "\n",
        "# Time bins for spikes\n",
        "T = len(time)\n",
        "spike_bins = np.ceil((dt + cellTS - np.min(post)) / dt).astype(int)\n",
        "spike_bins = np.clip(spike_bins, 1, T)\n",
        "\n",
        "# Spike count per time bin\n",
        "r = np.zeros(T)\n",
        "for l in spike_bins - 1:\n",
        "    r[l] += 1\n",
        "\n",
        "# Calculation for mean_log_fac\n",
        "mean_log_fac = np.mean(np.log(factorial(r)))\n",
        "# Output a variable to check\n",
        "print(\"Mean of log of factorial of r:\", mean_log_fac)\n",
        "# Assuming initialization of T, n, x, y, r\n",
        "I = np.zeros(T, dtype=int)\n",
        "R = np.zeros((n, n))\n",
        "rows = []\n",
        "cols = []\n",
        "data = []\n",
        "# Use a set to store unique pairs\n",
        "unique_pairs = set()\n",
        "\n",
        "# Calculate indices and update R\n",
        "for t in range(T):\n",
        "    I[t] = x[t] * n + n - 1 - y[t]\n",
        "    R[n - y[t] - 1, x[t]] += r[t]\n",
        "    rows.append(t)\n",
        "    cols.append(I[t])\n",
        "    data.append(1)  # You're setting this to 1, adjust if different values are needed\n",
        "    # Add each pair to the set (automatically handles uniqueness)\n",
        "    unique_pairs.add((x[t], y[t]))\n",
        "\n",
        "# The number of unique pairs\n",
        "number_of_unique_pairs = len(unique_pairs)\n",
        "\n",
        "print(\"Number of unique pairs:\", number_of_unique_pairs)\n",
        "print(\"Proportion of space sampled:\", number_of_unique_pairs / (n * n))\n",
        "print(\"Sample size:\", T)\n",
        "print(\"Feature size:\", n * n)\n",
        "\n",
        "# Create the sparse matrix from the collected data\n",
        "X = csr_matrix((data, (rows, cols)), shape=(T, n * n))\n",
        "\n",
        "# Efficient computation of X^T * X\n",
        "XTX = X.transpose().dot(X)\n",
        "\n",
        "m = 2 * n * (n - 1)  # Total number of edges in an n x n grid\n",
        "\n",
        "# Initialize D as a lil_matrix for incremental construction\n",
        "D = lil_matrix((m, n**2))\n",
        "\n",
        "current_row = 0\n",
        "\n",
        "# Populate the matrix\n",
        "for i in range(n):\n",
        "    for j in range(n):\n",
        "        index = i * n + j  # Current node index (row-major order)\n",
        "        # Right neighbor\n",
        "        if j < n - 1:\n",
        "          right_index = index + 1\n",
        "          D[current_row, index] = 1\n",
        "          D[current_row, right_index] = -1\n",
        "          current_row += 1\n",
        "        # Down neighbor\n",
        "        if i < n - 1:\n",
        "          down_index = index + n\n",
        "          D[current_row, index] = 1\n",
        "          D[current_row, down_index] = -1\n",
        "          current_row += 1\n",
        "\n",
        "# Convert to csr_matrix for efficient operations\n",
        "D = D.tocsr()\n",
        "# Print the matrix to see its structure\n",
        "#print(D_csr)\n",
        "#print(XTX)  # This will display the sparse matrix format\n",
        "\n",
        "# Create the plot\n",
        "plt.figure(figsize=(10, 6))\n",
        "\n",
        "# Plot the continuous path with a thinner blue line\n",
        "plt.plot(x_, y_, 'b-', label='Continuous Path', linewidth=0.5)  # Thinner blue line\n",
        "\n",
        "# Add red circles for spikes\n",
        "spike_indices = np.where(r > 0)[0]\n",
        "# Scale the sizes of the circles based on the spike counts, multiplying by a factor for visibility\n",
        "sizes = r[spike_indices] * 20  # Scale factor can be adjusted as needed\n",
        "plt.scatter(x_[spike_indices], y_[spike_indices], facecolors='none', edgecolors='r', s=sizes, label='Spikes')\n",
        "\n",
        "# Adding labels and legend\n",
        "plt.title('Spatial distribution of spikes along the trajectory')\n",
        "plt.xlabel('Normalized X')\n",
        "plt.ylabel('Normalized Y')\n",
        "plt.legend()\n",
        "plt.grid(True)  # Adds a grid for easier visualization\n",
        "\n",
        "# Display the plot\n",
        "plt.show()\n",
        "\n",
        "# Save the plot image as PNG\n",
        "#plot_filename = 'spatial_distribution_of_spikes.png'\n",
        "#plt.savefig(plot_filename, format='png')\n",
        "\n",
        "# Alternatively, you can try saving it in a different format like JPEG or PDF\n",
        "#plt.savefig('spatial_distribution_of_spikes.jpg', format='jpg')\n",
        "#plt.savefig('spatial_distribution_of_spikes.pdf', format='pdf')\n",
        "\n",
        "\n"
      ]
    },
    {
      "cell_type": "code",
      "source": [
        "import numpy as np\n",
        "import pandas as pd\n",
        "\n",
        "# Assuming R and I are already defined as per your earlier script\n",
        "\n",
        "# Save R array to CSV\n",
        "np.savetxt(\"R_matrix.csv\", R, delimiter=\",\", fmt='%d')  # Assuming R contains integer data\n",
        "\n",
        "# Save I array to CSV\n",
        "np.savetxt(\"I_vector.csv\", I, delimiter=\",\", fmt='%d')  # Assuming I contains integer data\n",
        "\n",
        "print(\"Files saved: R_matrix.csv and I_vector.csv\")\n"
      ],
      "metadata": {
        "colab": {
          "base_uri": "https://localhost:8080/"
        },
        "id": "YYkzGGQf6Nzj",
        "outputId": "171c9d49-8d22-4ef0-e999-5b4fddb2e5c1"
      },
      "execution_count": 4,
      "outputs": [
        {
          "output_type": "stream",
          "name": "stdout",
          "text": [
            "Files saved: R_matrix.csv and I_vector.csv\n"
          ]
        }
      ]
    },
    {
      "cell_type": "code",
      "source": [
        "# Read the CSV files back into numpy arrays\n",
        "R_loaded = np.loadtxt(\"R_matrix.csv\", delimiter=\",\", dtype=int)\n",
        "I_loaded = np.loadtxt(\"I_vector.csv\", delimiter=\",\", dtype=int)\n",
        "\n",
        "# Convert numpy arrays to pandas DataFrame for better handling and visualization\n",
        "R_df = pd.DataFrame(R_loaded)\n",
        "I_df = pd.DataFrame(I_loaded, columns=['Index'])\n",
        "\n",
        "print(\"Data loaded into DataFrames.\")\n",
        "print(\"R matrix:\")\n",
        "print(R_df.head())  # Display the first few rows of the R DataFrame\n",
        "print(\"I vector:\")\n",
        "print(I_df.head())  # Display the first few rows of the I DataFrame\n"
      ],
      "metadata": {
        "id": "4E8xzfjJ6Uve"
      },
      "execution_count": null,
      "outputs": []
    },
    {
      "cell_type": "code",
      "execution_count": 4,
      "metadata": {
        "colab": {
          "base_uri": "https://localhost:8080/",
          "height": 216
        },
        "id": "6e1zFDxr2e_Z",
        "outputId": "337d9672-d78f-489f-834a-18d62a0abb0d"
      },
      "outputs": [
        {
          "output_type": "error",
          "ename": "NameError",
          "evalue": "name 'X' is not defined",
          "traceback": [
            "\u001b[0;31m---------------------------------------------------------------------------\u001b[0m",
            "\u001b[0;31mNameError\u001b[0m                                 Traceback (most recent call last)",
            "\u001b[0;32m<ipython-input-4-f495d13cb61f>\u001b[0m in \u001b[0;36m<cell line: 37>\u001b[0;34m()\u001b[0m\n\u001b[1;32m     35\u001b[0m \u001b[0;34m\u001b[0m\u001b[0m\n\u001b[1;32m     36\u001b[0m \u001b[0;31m# Right-hand side of the equation\u001b[0m\u001b[0;34m\u001b[0m\u001b[0;34m\u001b[0m\u001b[0m\n\u001b[0;32m---> 37\u001b[0;31m \u001b[0mb\u001b[0m \u001b[0;34m=\u001b[0m \u001b[0mX\u001b[0m\u001b[0;34m.\u001b[0m\u001b[0mT\u001b[0m \u001b[0;34m@\u001b[0m \u001b[0mr\u001b[0m\u001b[0;34m\u001b[0m\u001b[0;34m\u001b[0m\u001b[0m\n\u001b[0m\u001b[1;32m     38\u001b[0m \u001b[0;31m# Compute sum(X.T), which is equivalent to summing each row of X\u001b[0m\u001b[0;34m\u001b[0m\u001b[0;34m\u001b[0m\u001b[0m\n\u001b[1;32m     39\u001b[0m \u001b[0msum_X_T\u001b[0m \u001b[0;34m=\u001b[0m \u001b[0mnp\u001b[0m\u001b[0;34m.\u001b[0m\u001b[0msum\u001b[0m\u001b[0;34m(\u001b[0m\u001b[0mX\u001b[0m\u001b[0;34m.\u001b[0m\u001b[0mT\u001b[0m\u001b[0;34m,\u001b[0m \u001b[0maxis\u001b[0m\u001b[0;34m=\u001b[0m\u001b[0;36m1\u001b[0m\u001b[0;34m)\u001b[0m\u001b[0;34m.\u001b[0m\u001b[0mA\u001b[0m\u001b[0;34m.\u001b[0m\u001b[0mflatten\u001b[0m\u001b[0;34m(\u001b[0m\u001b[0;34m)\u001b[0m  \u001b[0;31m# Using .A to convert to dense array and flatten to make 1D\u001b[0m\u001b[0;34m\u001b[0m\u001b[0;34m\u001b[0m\u001b[0m\n",
            "\u001b[0;31mNameError\u001b[0m: name 'X' is not defined"
          ]
        }
      ],
      "source": [
        "import numpy as np\n",
        "import matplotlib.pyplot as plt\n",
        "from scipy.sparse import csr_matrix\n",
        "from scipy.sparse.linalg import cg, LinearOperator, inv\n",
        "from time import time  # Make sure to import the time function\n",
        "np.random.seed(0)  # Setting seed for reproducibility\n",
        "# Tolerance and maximum iterations\n",
        "tol = 1e-3\n",
        "maxiter = 1000\n",
        "lm = 10\n",
        "n2 = n * n\n",
        "# Assume X, D, r are defined, for example:\n",
        "# X = csr_matrix(np.random.randn(n*n, n*n))  # Example, should be defined according to your problem\n",
        "# D = csr_matrix(...)  # Defined as per your grid's adjacency structure\n",
        "# r = np.random.randn(n*n)\n",
        "# Scalar variable to define the size of other arrays\n",
        "\n",
        "lambdas = np.logspace(0, 2, lm)[::-1] # Array of lambda values from 1 to 0.1 in descending order\n",
        "\n",
        "# Define the matrix-vector product function outside the loop\n",
        "def matvec(v, lambda_reg):\n",
        "    return X.T @ (X @ v) + lambda_reg * (D.T @ (D @ v))\n",
        "\n",
        "# Vectors of zeros\n",
        "ALO       = []  # Creates a column vector of zeros of length m\n",
        "ALO_fast  = []   # Same as above\n",
        "TRAIN     = []  # Same as above\n",
        "timeALO       = [] # Creates a column vector of zeros of length m\n",
        "timeALO_fast  = []   # Same as above\n",
        "timeTRAIN     = []  # Same as above\n",
        "\n",
        "\n",
        "\n",
        "\n",
        "\n",
        "# Right-hand side of the equation\n",
        "b = X.T @ r\n",
        "# Compute sum(X.T), which is equivalent to summing each row of X\n",
        "sum_X_T = np.sum(X.T, axis=1).A.flatten()  # Using .A to convert to dense array and flatten to make 1D\n",
        "\n",
        "# Compute (b+0.5) / (sum(X.T) + 0.5)\n",
        "z = (b + 0.5) / (sum_X_T + 0.5)\n",
        "S = 250  # Number of iterations/samples\n",
        "# Arrays to store results\n",
        "b_s1 = np.zeros((n2, S))  # to store results of X.T @ e_s1\n",
        "b_s2 = np.zeros((n2, S))  # to store results of D.T @ e_s2\n",
        "u_s  = np.zeros((n2, S))\n",
        "for s in range(S):\n",
        "    # Sample e_s1, e_s2 from N(0, I)\n",
        "    e_s1 = np.random.normal(0, 1, T)\n",
        "    e_s2 = np.random.normal(0, 1, m)\n",
        "    # Compute b_s1 and b_s2\n",
        "    b_s1[:, s] = X.T @ e_s1  # Compute X^T @ e_s1\n",
        "    b_s2[:, s] = D.T @ e_s2  # Compute D^T @ e_s2\n",
        "    # Optional: Print out the results to check\n",
        "    #print(\"b_s1 results:\\n\", b_s1)\n",
        "    #print(\"b_s2 results:\\n\", b_s2)\n",
        "\n",
        "# Loop over different lambda values\n",
        "for lambda_reg in lambdas:\n",
        "    # Define shape of A for the LinearOperator with the current lambda\n",
        "    n2 = X.shape[1]\n",
        "    A = LinearOperator((n2, n2), matvec=lambda v: matvec(v, lambda_reg))\n",
        "    # Start timing - TRAIN\n",
        "    tstart = time()\n",
        "    # Solve for y using conjugate gradient\n",
        "    z, exit_code = cg(A, b, x0=z, tol=tol, maxiter=maxiter)\n",
        "    # End timing\n",
        "    fit_time = time() - tstart\n",
        "    timeTRAIN.append(fit_time)  # Store the fitting time\n",
        "    mse = np.mean((r - (X @ z))**2)\n",
        "    TRAIN.append(mse)\n",
        "\n",
        "    # Start timing - ALO\n",
        "    tstart = time()\n",
        "    diag_inv = np.zeros((n2,1))\n",
        "    for i in range(n2):\n",
        "        # Create the i-th unit vector in sparse format\n",
        "        e_i = csr_matrix((np.array([1]), ([i], [0])), shape=(n2,1))\n",
        "        e_i = e_i.toarray().ravel()\n",
        "        # Solve A x = e_i\n",
        "        # Since e_i is a 1xN matrix, we need to flatten it to make it a proper vector\n",
        "        ae, exit_code = cg(A, e_i, tol=tol, maxiter=maxiter)\n",
        "        if exit_code == 0:\n",
        "            # The i-th diagonal element of A^{-1} is the i-th element of ae\n",
        "            diag_inv[i] = ae[i]\n",
        "            e = A @ ae\n",
        "            if (np.sum(abs(A @ ae- e_i)) > 0.001):\n",
        "                print(np.sum(abs(A @ ae- e_i)))\n",
        "        else:\n",
        "            raise Exception(f\"CG did not converge for the {i}-th unit vector\")\n",
        "    hh = np.zeros((T,1))\n",
        "    for t in range(T):\n",
        "        hh[t] = diag_inv[I[t]]\n",
        "    # End timing\n",
        "    alo_time = time() - tstart\n",
        "    timeALO_fast.append(alo_time)  # Store the fitting time\n",
        "    alo     = np.mean(((r - (X @ z) ) / (1 - hh)) **2)\n",
        "    ALO.append(alo)\n",
        "\n",
        "    # Start timing - fast ALO\n",
        "    tstart = time()\n",
        "    b_s = b_s1 +  np.sqrt(lambda_reg) * b_s2\n",
        "    # Solve the system A x = b for each column of b_s\n",
        "    for s in range(S):\n",
        "        u_, info = cg(A, b_s[:, s], x0=u_s[:, s])\n",
        "        if info == 0:\n",
        "            u_s[:, s] = u_\n",
        "        else:\n",
        "            print(f\"CG did not converge for column {s}\")\n",
        "    #XU = X @ u_s\n",
        "    #Z =  (u_s @ u_s.T) / S\n",
        "    # Step 1: Center the data\n",
        "    means = np.mean(u_s, axis=1, keepdims=True)\n",
        "    u_s_centered = u_s - means\n",
        "    # Step 2: Compute the covariance matrix\n",
        "    Z =  np.dot(u_s_centered, u_s_centered.T) / (S - 1)\n",
        "    #for l in range(4):\n",
        "     #   Z  = 2*Z - Z @ (A @ Z)\n",
        "    diag_inv_ = Z.diagonal()\n",
        "    Z  = (X @ Z) @ X.T\n",
        "    hh_fast = np.diag(Z)\n",
        "\n",
        "    #print(hh_fast)\n",
        "    #np.var(XU, axis=1, ddof=1)  # ddof=1 uses (S-1) in the denominator\n",
        "    # End timing\n",
        "    alo_fast_time = time() - tstart\n",
        "    timeALO_fast.append(alo_fast_time)  # Store the fitting time\n",
        "    alo_fast     = np.mean(((r - (X @ z)) / (1 - hh_fast)) **2)\n",
        "    ALO_fast.append(alo_fast)\n",
        "    print(f\"lambda = {lambda_reg:.2f}| alo={alo:.2f}| alo time ={alo_time:.0f}| alo_fast={alo_fast:.2f}| alo_fast time ={alo_fast_time:.0f}| mse={mse:.2f}| fit time = {fit_time:.2f}| h ={np.mean(hh):.2f}| max_err ={np.max(abs(diag_inv_ - diag_inv)):.2f}| mean_err ={np.mean(abs(diag_inv_ - diag_inv)):.2f}\")\n",
        "\n",
        "\n",
        "# Ensure all arrays are numpy arrays for easier handling\n",
        "fit_times = np.array(timeTRAIN)\n",
        "tt=np.mean(fit_times)\n"
      ]
    },
    {
      "cell_type": "code",
      "execution_count": null,
      "metadata": {
        "colab": {
          "base_uri": "https://localhost:8080/"
        },
        "id": "MVuzgXkrQMi4",
        "outputId": "9f3cdf93-fa7c-4137-c7e8-edeeefd1c789"
      },
      "outputs": [
        {
          "name": "stdout",
          "output_type": "stream",
          "text": [
            "3133\n",
            "3133\n",
            "3133\n",
            "4900\n",
            "3133\n",
            "2500\n",
            "4900\n",
            "2500\n",
            "3133\n",
            "3133\n",
            "5000\n",
            "[1826 1776 1827 ... 2347 2347 2347]\n"
          ]
        }
      ],
      "source": [
        "print(hh.shape[0])\n",
        "print(hh_fast.shape[0])\n",
        "print(T)\n",
        "print(m)\n",
        "print(X.shape[0])\n",
        "print(X.shape[1])\n",
        "print(D.shape[0])\n",
        "print(D.shape[1])\n",
        "print(Z.shape[1])\n",
        "print(Z.shape[0])\n",
        "C=(u_s @ u_s.T) / S\n",
        "print(S)\n",
        "#print( np.sum(abs(A @ ae- e_i.toarray().ravel())))\n",
        "\n",
        "print(I)\n"
      ]
    },
    {
      "cell_type": "code",
      "execution_count": null,
      "metadata": {
        "colab": {
          "base_uri": "https://localhost:8080/",
          "height": 605
        },
        "id": "kquOB9nQl1al",
        "outputId": "828e9e81-d68f-44c0-8b68-c390900965b0"
      },
      "outputs": [
        {
          "name": "stdout",
          "output_type": "stream",
          "text": [
            "0.0\n",
            "893.9341819286346\n"
          ]
        },
        {
          "data": {
            "image/png": "[encoded data removed]",
            "text/plain": [
              "<Figure size 1000x600 with 1 Axes>"
            ]
          },
          "metadata": {},
          "output_type": "display_data"
        }
      ],
      "source": [
        "import numpy as np\n",
        "import matplotlib.pyplot as plt\n",
        "\n",
        "# Ensure the lists are numpy arrays for easier manipulation\n",
        "timeALO_fast = np.array(timeALO_fast)  # Make sure to use the correct time list for ALO\n",
        "timeALO = np.array(timeALO)  # Make sure to use the correct time list for ALO\n",
        "timeTRAIN = np.array(timeTRAIN)\n",
        "ALO = np.array(ALO)\n",
        "ALO_fast = np.array(ALO_fast)\n",
        "TRAIN = np.array(TRAIN)\n",
        "lambdas = np.array(lambdas)\n",
        "\n",
        "\n",
        "# Summing the computation times\n",
        "total_time_ALO = np.sum(timeALO)\n",
        "total_time_ALO_fast = np.sum(timeALO_fast)\n",
        "total_time_TRAIN = np.sum(timeTRAIN)\n",
        "print(total_time_ALO )\n",
        "print(total_time_ALO_fast)\n",
        "\n",
        "# Plotting ALO and TRAIN MSE against lambdas\n",
        "plt.figure(figsize=(10, 6))\n",
        "plt.plot(lambdas, ALO_fast, marker='.', linestyle='-', color='black', label='fast ALO')\n",
        "plt.plot(lambdas, ALO, marker='o', linestyle='-', color='red', label='ALO')\n",
        "plt.plot(lambdas, TRAIN, marker='x', linestyle='--', color='blue', label='TRAIN')\n",
        "plt.xscale('log')  # Since lambda values are log-spaced\n",
        "plt.xlabel('Lambda')\n",
        "plt.ylabel('Mean Squared Error')\n",
        "plt.title(f'ALO vs. TRAIN MSE,  ALO Time: {total_time_ALO:.2f}s, fast ALO Time: {total_time_ALO_fast:.2f}s,  TRAIN Time: {total_time_TRAIN:.2f}s')\n",
        "plt.legend()\n",
        "plt.grid(True)\n",
        "plt.show()\n"
      ]
    },
    {
      "cell_type": "code",
      "execution_count": null,
      "metadata": {
        "id": "IrjmzHRllKs-"
      },
      "outputs": [],
      "source": [
        "\n",
        "import matplotlib.pyplot as plt\n",
        "\n",
        "# Plotting the fitting times against lambda values\n",
        "plt.figure(figsize=(10, 6))\n",
        "plt.plot(lambdas, fit_times, marker='o', linestyle='-', color='b')\n",
        "plt.xscale('log')  # Since lambda values are log-spaced\n",
        "plt.xlabel('Lambda')\n",
        "plt.ylabel('Fitting Time (seconds)')\n",
        "plt.title(f'Fitting Time vs. Lambda, t={tt:.4f}')\n",
        "plt.grid(True)\n",
        "plt.show()"
      ]
    }
  ],
  "metadata": {
    "colab": {
      "provenance": []
    },
    "kernelspec": {
      "display_name": "Python 3",
      "name": "python3"
    },
    "language_info": {
      "name": "python"
    }
  },
  "nbformat": 4,
  "nbformat_minor": 0
}